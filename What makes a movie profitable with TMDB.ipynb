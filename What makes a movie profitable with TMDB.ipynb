{
 "cells": [
  {
   "cell_type": "markdown",
   "metadata": {},
   "source": [
    "# Investigating the themoviedb.org dataset\n",
    "\n",
    "## Table of Contents\n",
    "<ul>\n",
    "<li><a href=\"#intro\">Introduction</a></li>\n",
    "<li><a href=\"#wrangling\">Data Wrangling</a></li>\n",
    "<li><a href=\"#eda\">Exploratory Data Analysis</a></li>\n",
    "<li><a href=\"#conclusions\">Conclusions</a></li>\n",
    "</ul>"
   ]
  },
  {
   "cell_type": "markdown",
   "metadata": {},
   "source": [
    "<a id='intro'></a>\n",
    "## Introduction\n",
    "\n",
    "themoviedb.org (tmdb) is a free and open user-generated movie and TV metadata database. Tmdb is widely used to augment various 3rd party media applications such as Plex and Kodi with data about hundreds of thousands of movies and tv shows. The dataset explored here is a subset of approximately 10,000 movies that were released between 1960 and 2015.\n",
    "\n",
    "In this report I will be investigating what traits lead to a film being financially successful. Specifically, What  are film finances like in general? Are there more financially successful or unsuccessful films? How much does the average film make? what genres show up most often in profitable and unprofitable films? I hope to glean insight about the answers to these questions by analyzing the tmdb dataset. "
   ]
  },
  {
   "cell_type": "markdown",
   "metadata": {},
   "source": [
    "<a id='wrangling'></a>\n",
    "## Data Wrangling\n",
    "\n",
    "### General Properties\n",
    "The tmdb dataset contains many types of data from popularity to cast members so it's worth going through here what is and isn't going to be useful for our analysis. \n",
    "\n",
    "First we have some basic identification that doesn't directly provide any useful data. Namely, The ID numbers, title, overview, tagline, and homepage url don't seem particularly interesing in and of themselves so won't factor heavily into our analysis. \n",
    "\n",
    "Next comes the textual data: genres, production companies, directors, cast, and keywords. These labels will be useful for splitting up data into meaningful categories. \n",
    "\n",
    "The real meat of tmdb is the numerical and time data. The budget and revenue (both adjusted and canonical), user votes, popularity, runtime, and release date will all prove highly useful for teasing out financial trends in the data. \n",
    "\n",
    "Let's load the dataset now."
   ]
  },
  {
   "cell_type": "code",
   "execution_count": 25,
   "metadata": {},
   "outputs": [],
   "source": [
    "#key plotting and formatting libraries \n",
    "import numpy as np\n",
    "import pandas as pd\n",
    "import seaborn as sns\n",
    "import matplotlib\n",
    "\n",
    "#displays graphs inline\n",
    "import pprint \n",
    "pp = pprint.PrettyPrinter(indent=4)\n",
    "\n",
    "#libraries to help with loading the database\n",
    "import csv\n",
    "import io\n",
    "import math\n",
    "from datetime import datetime\n",
    "\n",
    "#libraries for helping to analyze data\n",
    "from collections import Counter, defaultdict"
   ]
  },
  {
   "cell_type": "code",
   "execution_count": 38,
   "metadata": {},
   "outputs": [],
   "source": [
    "#read in the database as a list of dictionaries\n",
    "tmdb_file = open('tmdb-movies.csv','r')\n",
    "reader = csv.DictReader(tmdb_file)\n",
    "database = []\n",
    "for row in reader:\n",
    "    database.append(\n",
    "        {key:value.split('|') \n",
    "            for key,value in row.items()}\n",
    "    )"
   ]
  },
  {
   "cell_type": "markdown",
   "metadata": {},
   "source": [
    "Now that the database is loaded we check for data integrity."
   ]
  },
  {
   "cell_type": "code",
   "execution_count": 39,
   "metadata": {},
   "outputs": [
    {
     "name": "stdout",
     "output_type": "stream",
     "text": [
      "10866\n"
     ]
    }
   ],
   "source": [
    "print(len(database))"
   ]
  },
  {
   "cell_type": "code",
   "execution_count": 40,
   "metadata": {},
   "outputs": [
    {
     "name": "stdout",
     "output_type": "stream",
     "text": [
      "{   'budget': ['0'],\n",
      "    'budget_adj': ['0'],\n",
      "    'cast': ['Margot Robbie', 'Chiwetel Ejiofor', 'Chris Pine'],\n",
      "    'director': ['Craig Zobel'],\n",
      "    'genres': ['Drama', 'Science Fiction', 'Thriller'],\n",
      "    'homepage': ['http://www.facebook.com/ZforZachariah'],\n",
      "    'id': ['193687'],\n",
      "    'imdb_id': ['tt1598642'],\n",
      "    'keywords': [   'love triangle',\n",
      "                    'based on novel',\n",
      "                    'jealousy',\n",
      "                    'radiation',\n",
      "                    'tractor'],\n",
      "    'original_title': ['Z for Zachariah'],\n",
      "    'overview': [   'In the wake of a nuclear war, a young woman survives on '\n",
      "                    'her own, fearing she may actually be the proverbial last '\n",
      "                    'woman on earth, until she discovers the most astonishing '\n",
      "                    'sight of her life: another human being. A distraught '\n",
      "                    'scientist, heâ€™s nearly been driven mad by radiation '\n",
      "                    'exposure and his desperate search for others. A fragile, '\n",
      "                    'imperative strand of trust connects them. But when a '\n",
      "                    'stranger enters the valley, their precarious bond begins '\n",
      "                    'to unravel.'],\n",
      "    'popularity': ['1.161812'],\n",
      "    'production_companies': [   'Palomar Pictures',\n",
      "                                'Lucky Hat Entertainment',\n",
      "                                'Silver Reel',\n",
      "                                'Material Pictures',\n",
      "                                'Zik Zak Kvikmyndir'],\n",
      "    'release_date': ['8/13/15'],\n",
      "    'release_year': ['2015'],\n",
      "    'revenue': ['118483'],\n",
      "    'revenue_adj': ['109004.312038102'],\n",
      "    'runtime': ['97'],\n",
      "    'tagline': [   'After the end of the world she thought she was alone. She '\n",
      "                   'was wrong.'],\n",
      "    'vote_average': ['5.5'],\n",
      "    'vote_count': ['181']}\n"
     ]
    }
   ],
   "source": [
    "pp.pprint(database[139])"
   ]
  },
  {
   "cell_type": "markdown",
   "metadata": {},
   "source": [
    "    \n"
   ]
  },
  {
   "cell_type": "markdown",
   "metadata": {},
   "source": [
    "### Data Cleaning\n",
    "It appears that our loading operation was a success! We do however have another set of problems: everything is a string type (because lists can't hold heterogenyous datatypes), single valued data is contained in a list, and some fields are empty <b> u'budget': [u'0']</b>. Let's identify what data needs to be changed and to what. \n",
    "\n",
    "All single-valued fields will be converted from lists into basic types with [0]\n",
    "\n",
    "['example'][0] -> 'example'\n",
    "\n",
    "##### Strings:\n",
    "<ul>\n",
    "    <li>overview</li>\n",
    "    <li>original_title </li>\n",
    "    <li>tagline </li>\n",
    "    <li>homepage</li>\n",
    "</ul>\n",
    "\n",
    "##### Lists of Strings:\n",
    "<ul>\n",
    "    <li>genres</li>\n",
    "    <li>production_companies</li> \n",
    "    <li>director </li>\n",
    "    <li>keywords </li>\n",
    "    <li>cast </li>\n",
    "</ul>\n",
    "These data are fine to leave as is and need no further conversion\n",
    "\n",
    "##### Integers:\n",
    "<ul>\n",
    "    <li>runtime (in minutes)</li>\n",
    "    <li>vote_count </li>\n",
    "    <li>budget </li>\n",
    "    <li>revenue </li>\n",
    "    <li>id</li>\n",
    "    <li>imdb_id</li>\n",
    "    <li>release_year</li>\n",
    "    <li>budget_adj </li>\n",
    "    <li>revenue_adj</li>\n",
    "</ul>\n",
    "These data can be converted to integers using the int() function\n",
    "\n",
    "##### Floating point:\n",
    "<ul>\n",
    "    <li>vote_average (float)</li>\n",
    "    <li>popularity (float 0-33)</li>\n",
    "</ul>\n",
    "These data can be converted using the float() function\n",
    "\n",
    "##### Dates:\n",
    "\n",
    "<ul>\n",
    "    <li>release_date (10/18/11 mm/dd/yy)</li>\n",
    "</ul>\n",
    "\n",
    "The release date would be more convenient as a datetime object and while we are at it release_month and release_day counterparts to the release_year field could prove useful."
   ]
  },
  {
   "cell_type": "code",
   "execution_count": 41,
   "metadata": {},
   "outputs": [],
   "source": [
    "for entry in database:\n",
    "    # data we will end up using\n",
    "    entry['release_year'] = int(entry['release_year'][0])\n",
    "    entry['runtime'] = int(entry['runtime'][0])\n",
    "    entry['budget_adj'] = int(math.floor(float(entry['budget_adj'][0])))\n",
    "    entry['revenue_adj'] = int(math.floor(float(entry['revenue_adj'][0])))\n",
    "    entry['profit'] = float(float(entry['revenue_adj'])/float((entry['budget_adj']+1)))\n",
    "    entry['id'] = int(entry['id'][0])\n",
    "    entry['original_title'] = entry['original_title'][0]\n",
    "    \n",
    "    # data that has been cleaned in case anyone wants to modify this notebook but will not be used here\n",
    "    entry['homepage'] = entry['homepage'][0]\n",
    "    entry['tagline'] = entry['tagline'][0]\n",
    "    entry['overview'] = entry['overview'][0]\n",
    "    entry['release_date'] = pd.to_datetime(entry['release_date'][0],format='%m/%d/%y')\n",
    "    entry['vote_count'] = int(entry['vote_count'][0])\n",
    "    entry['vote_average'] = float(entry['vote_average'][0])\n",
    "    entry['imdb_id'] = entry['imdb_id'][0]\n",
    "    entry['popularity'] = float(entry['popularity'][0])\n",
    "    entry['budget'] = int(entry['budget'][0])\n",
    "    entry['revenue'] = int(entry['revenue'][0])    "
   ]
  },
  {
   "cell_type": "code",
   "execution_count": 42,
   "metadata": {
    "scrolled": true
   },
   "outputs": [
    {
     "name": "stdout",
     "output_type": "stream",
     "text": [
      "{   'budget': 0,\n",
      "    'budget_adj': 0,\n",
      "    'cast': ['Margot Robbie', 'Chiwetel Ejiofor', 'Chris Pine'],\n",
      "    'director': ['Craig Zobel'],\n",
      "    'genres': ['Drama', 'Science Fiction', 'Thriller'],\n",
      "    'homepage': 'http://www.facebook.com/ZforZachariah',\n",
      "    'id': 193687,\n",
      "    'imdb_id': 'tt1598642',\n",
      "    'keywords': [   'love triangle',\n",
      "                    'based on novel',\n",
      "                    'jealousy',\n",
      "                    'radiation',\n",
      "                    'tractor'],\n",
      "    'original_title': 'Z for Zachariah',\n",
      "    'overview': 'In the wake of a nuclear war, a young woman survives on her '\n",
      "                'own, fearing she may actually be the proverbial last woman on '\n",
      "                'earth, until she discovers the most astonishing sight of her '\n",
      "                'life: another human being. A distraught scientist, heâ€™s '\n",
      "                'nearly been driven mad by radiation exposure and his '\n",
      "                'desperate search for others. A fragile, imperative strand of '\n",
      "                'trust connects them. But when a stranger enters the valley, '\n",
      "                'their precarious bond begins to unravel.',\n",
      "    'popularity': 1.161812,\n",
      "    'production_companies': [   'Palomar Pictures',\n",
      "                                'Lucky Hat Entertainment',\n",
      "                                'Silver Reel',\n",
      "                                'Material Pictures',\n",
      "                                'Zik Zak Kvikmyndir'],\n",
      "    'profit': 109004.0,\n",
      "    'release_date': Timestamp('2015-08-13 00:00:00'),\n",
      "    'release_year': 2015,\n",
      "    'revenue': 118483,\n",
      "    'revenue_adj': 109004,\n",
      "    'runtime': 97,\n",
      "    'tagline': 'After the end of the world she thought she was alone. She was '\n",
      "               'wrong.',\n",
      "    'vote_average': 5.5,\n",
      "    'vote_count': 181}\n"
     ]
    }
   ],
   "source": [
    "pp.pprint(database[139])"
   ]
  },
  {
   "cell_type": "markdown",
   "metadata": {},
   "source": [
    "Fantastic! We can now move these data into a pandas dataframe and make use of some very helpful functions to drop duplicates and rows we don't plan on using."
   ]
  },
  {
   "cell_type": "code",
   "execution_count": 43,
   "metadata": {},
   "outputs": [],
   "source": [
    "pandadb = pd.DataFrame(data=database)"
   ]
  },
  {
   "cell_type": "code",
   "execution_count": 44,
   "metadata": {},
   "outputs": [
    {
     "data": {
      "text/plain": [
       "id                                                                 193687\n",
       "imdb_id                                                         tt1598642\n",
       "popularity                                                       1.161812\n",
       "budget                                                                  0\n",
       "revenue                                                            118483\n",
       "original_title                                            Z for Zachariah\n",
       "cast                        [Margot Robbie, Chiwetel Ejiofor, Chris Pine]\n",
       "homepage                            http://www.facebook.com/ZforZachariah\n",
       "director                                                    [Craig Zobel]\n",
       "tagline                 After the end of the world she thought she was...\n",
       "keywords                [love triangle, based on novel, jealousy, radi...\n",
       "overview                In the wake of a nuclear war, a young woman su...\n",
       "runtime                                                                97\n",
       "genres                                 [Drama, Science Fiction, Thriller]\n",
       "production_companies    [Palomar Pictures, Lucky Hat Entertainment, Si...\n",
       "release_date                                          2015-08-13 00:00:00\n",
       "vote_count                                                            181\n",
       "vote_average                                                          5.5\n",
       "release_year                                                         2015\n",
       "budget_adj                                                              0\n",
       "revenue_adj                                                        109004\n",
       "profit                                                           109004.0\n",
       "Name: 139, dtype: object"
      ]
     },
     "execution_count": 44,
     "metadata": {},
     "output_type": "execute_result"
    }
   ],
   "source": [
    "pandadb.iloc[139]"
   ]
  },
  {
   "cell_type": "markdown",
   "metadata": {},
   "source": [
    "The pandas display is much nicer to read and duplicate checking is now very simple. "
   ]
  },
  {
   "cell_type": "code",
   "execution_count": 45,
   "metadata": {},
   "outputs": [
    {
     "name": "stdout",
     "output_type": "stream",
     "text": [
      "10866\n",
      "10865\n"
     ]
    }
   ],
   "source": [
    "print(len(pandadb))\n",
    "pandadb = pandadb.drop_duplicates('id')\n",
    "print(len(pandadb))"
   ]
  },
  {
   "cell_type": "markdown",
   "metadata": {},
   "source": [
    "We found precisely one duplicate entry. It happened to be the 2010 TEKKEN film at entries 2089 and 2090."
   ]
  },
  {
   "cell_type": "markdown",
   "metadata": {},
   "source": [
    "We will now remove some of the less useful columns so they don't clutter our outputs."
   ]
  },
  {
   "cell_type": "code",
   "execution_count": 46,
   "metadata": {},
   "outputs": [
    {
     "name": "stdout",
     "output_type": "stream",
     "text": [
      "id                                            193687\n",
      "original_title                       Z for Zachariah\n",
      "runtime                                           97\n",
      "genres            [Drama, Science Fiction, Thriller]\n",
      "release_year                                    2015\n",
      "budget_adj                                         0\n",
      "revenue_adj                                   109004\n",
      "profit                                      109004.0\n",
      "Name: 139, dtype: object\n"
     ]
    }
   ],
   "source": [
    "pandadb=pandadb.drop(['cast','director','homepage','imdb_id',\n",
    "              'keywords','overview','production_companies',\n",
    "              'tagline','revenue','budget','popularity',\n",
    "              'vote_count','vote_average','release_date'],axis=1)\n",
    "print(pandadb.iloc[139])"
   ]
  },
  {
   "cell_type": "markdown",
   "metadata": {},
   "source": [
    "That output is far easier to parse but I also see that there is a null value for the budget. We should remove those (and other unreasonable values) as well before we start exploring."
   ]
  },
  {
   "cell_type": "code",
   "execution_count": 179,
   "metadata": {},
   "outputs": [
    {
     "name": "stdout",
     "output_type": "stream",
     "text": [
      "3819\n"
     ]
    }
   ],
   "source": [
    "pandadb = pandadb[(pandadb.budget_adj>1) & (pandadb.revenue_adj >1) & \n",
    "                (pandadb.release_year<2016) & (pandadb.release_year>0) ]\n",
    "print(len(pandadb))"
   ]
  },
  {
   "cell_type": "markdown",
   "metadata": {},
   "source": [
    "<a id='eda'></a>\n",
    "## Exploratory Data Analysis\n",
    "\n",
    "### What are the finances of films like and how profitable are they to make?"
   ]
  },
  {
   "cell_type": "markdown",
   "metadata": {},
   "source": [
    "Let's look at the budget data to get a sense for what sort of money films cost to make."
   ]
  },
  {
   "cell_type": "code",
   "execution_count": 131,
   "metadata": {},
   "outputs": [
    {
     "data": {
      "text/plain": [
       "Text(0.5, 0, 'Budget in $(adj)')"
      ]
     },
     "execution_count": 131,
     "metadata": {},
     "output_type": "execute_result"
    },
    {
     "data": {
      "image/png": "[encoded data removed]",
      "text/plain": [
       "<Figure size 432x288 with 1 Axes>"
      ]
     },
     "metadata": {
      "needs_background": "light"
     },
     "output_type": "display_data"
    }
   ],
   "source": [
    "_PLOT = pandadb['budget_adj'].plot(kind=\"hist\",bins=[2**x for x in range(10,30)],logx=True)\n",
    "_PLOT.set_title(\"Film budgets\")\n",
    "_PLOT.set_xlabel(\"Budget in $(adj)\")"
   ]
  },
  {
   "cell_type": "markdown",
   "metadata": {},
   "source": [
    "Let's print out some statistics as well."
   ]
  },
  {
   "cell_type": "code",
   "execution_count": 132,
   "metadata": {},
   "outputs": [
    {
     "data": {
      "text/plain": [
       "count         3819\n",
       "mean      44543600\n",
       "std       44834508\n",
       "min           6310\n",
       "25%       13352838\n",
       "50%       30306534\n",
       "75%       60767198\n",
       "max      425000000\n",
       "Name: budget_adj, dtype: object"
      ]
     },
     "execution_count": 132,
     "metadata": {},
     "output_type": "execute_result"
    }
   ],
   "source": [
    "pandadb['budget_adj'].describe().apply(lambda x: format(int(round(x,0))))"
   ]
  },
  {
   "cell_type": "markdown",
   "metadata": {},
   "source": [
    "That is quite the range! From a few thousand dollars to the GDP of a small country films are certainly not lacking in monetary diversity. Let's see if all that money was put to good use."
   ]
  },
  {
   "cell_type": "code",
   "execution_count": 133,
   "metadata": {},
   "outputs": [
    {
     "data": {
      "text/plain": [
       "Text(0.5, 0, 'Revenue in $(adj)')"
      ]
     },
     "execution_count": 133,
     "metadata": {},
     "output_type": "execute_result"
    },
    {
     "data": {
      "image/png": "[encoded data removed]",
      "text/plain": [
       "<Figure size 432x288 with 1 Axes>"
      ]
     },
     "metadata": {
      "needs_background": "light"
     },
     "output_type": "display_data"
    }
   ],
   "source": [
    "_PLOT = pandadb['revenue_adj'].plot(kind=\"hist\",bins=[2**x for x in range(10,30)],logx=True)\n",
    "_PLOT.set_title(\"Film revenue\")\n",
    "_PLOT.set_xlabel(\"Revenue in $(adj)\")"
   ]
  },
  {
   "cell_type": "markdown",
   "metadata": {},
   "source": [
    "The revenue plot is so similar to the  budget plot that comparing them directly seems difficult to do. Let's try looking at the differences between revenue and budget instead."
   ]
  },
  {
   "cell_type": "code",
   "execution_count": 134,
   "metadata": {},
   "outputs": [],
   "source": [
    "pandadb['profit'] = pandadb['revenue_adj']-pandadb['budget_adj']"
   ]
  },
  {
   "cell_type": "code",
   "execution_count": 135,
   "metadata": {},
   "outputs": [
    {
     "data": {
      "text/plain": [
       "2750136651"
      ]
     },
     "execution_count": 135,
     "metadata": {},
     "output_type": "execute_result"
    }
   ],
   "source": [
    "max(pandadb['profit'])"
   ]
  },
  {
   "cell_type": "code",
   "execution_count": 136,
   "metadata": {},
   "outputs": [
    {
     "data": {
      "text/plain": [
       "Text(0.5, 0, 'Profit in $(adj)')"
      ]
     },
     "execution_count": 136,
     "metadata": {},
     "output_type": "execute_result"
    },
    {
     "data": {
      "image/png": "[encoded data removed]",
      "text/plain": [
       "<Figure size 432x288 with 1 Axes>"
      ]
     },
     "metadata": {
      "needs_background": "light"
     },
     "output_type": "display_data"
    }
   ],
   "source": [
    "_PLOT=pandadb['profit'].plot(kind=\"hist\",bins=200)\n",
    "_PLOT.set_title(\"Film profits\")\n",
    "_PLOT.set_xlabel(\"Profit in $(adj)\")"
   ]
  },
  {
   "cell_type": "markdown",
   "metadata": {},
   "source": [
    "Assuming our sample is even close to representative of all films the film market seems remarkably healthy. The typical film makes a decent amount of money, only a minority of films are made at a loss and there is a long and thin tail of extremely succesful films. Let's get some more hard numbers on this and move onto the next question."
   ]
  },
  {
   "cell_type": "code",
   "execution_count": 137,
   "metadata": {},
   "outputs": [
    {
     "data": {
      "text/plain": [
       "count          3819\n",
       "mean       93713095\n",
       "std       194682608\n",
       "min      -413912431\n",
       "25%        -1480390\n",
       "50%        28072991\n",
       "75%       108222527\n",
       "max      2750136651\n",
       "Name: profit, dtype: object"
      ]
     },
     "execution_count": 137,
     "metadata": {},
     "output_type": "execute_result"
    }
   ],
   "source": [
    "pandadb['profit'].describe().apply(lambda x: format(int(round(x,0))))"
   ]
  },
  {
   "cell_type": "markdown",
   "metadata": {},
   "source": [
    "It appears that the average film is very profitable and made around 93 million dollars!\n",
    "This is obviously skewed upwards by films that made billions of dollars but even the median film netted a very respectable 28 million and the majority of films in this dataset (looks to be around 70%) were profitable. let's split this dataset into 2 and compare films that were and were not profitable."
   ]
  },
  {
   "cell_type": "code",
   "execution_count": 150,
   "metadata": {},
   "outputs": [
    {
     "name": "stdout",
     "output_type": "stream",
     "text": [
      "count          2760.0\n",
      "mean      136194493.0\n",
      "std       213878262.0\n",
      "min            8562.0\n",
      "25%        20805653.0\n",
      "50%        61920459.0\n",
      "75%       156053086.0\n",
      "max      2750136651.0\n",
      "Name: profit, dtype: object\n",
      "\n",
      "count          1056.0\n",
      "mean      -17051602.0\n",
      "std        22554340.0\n",
      "min      -413912431.0\n",
      "25%       -21007685.0\n",
      "50%       -10452680.0\n",
      "75%        -4282174.0\n",
      "max           -4749.0\n",
      "Name: profit, dtype: object\n"
     ]
    }
   ],
   "source": [
    "mademoney = pandadb.loc[pandadb['profit']>0]\n",
    "lostmoney = pandadb.loc[pandadb['profit']<0]\n",
    "#we're excluding 4 results that made back exactly what they cost\n",
    "print(mademoney['profit'].describe().apply(lambda x: format(float(round(x,0)))))\n",
    "print()\n",
    "print(lostmoney['profit'].describe().apply(lambda x: format(float(round(x,0)))))"
   ]
  },
  {
   "cell_type": "markdown",
   "metadata": {},
   "source": [
    "So the average successful film made 136 million dollars and the average unsuccessful film lost 17 million dollars. Let's see what genres go into making a film a financial failure/success. "
   ]
  },
  {
   "cell_type": "markdown",
   "metadata": {},
   "source": [
    "### How does profitability relate to genre."
   ]
  },
  {
   "cell_type": "code",
   "execution_count": 153,
   "metadata": {},
   "outputs": [],
   "source": [
    "#takes in a list of lists.\n",
    "#returns a pandas series where all values have been flattened:\n",
    "#occurances of each unique value are counted\n",
    "#and counts are normalized to percentages\n",
    "#[[1],[1],[2],[2],[3]] -> {1:40%,2:40%,3:20%}\n",
    "def flattencountnorm(lol):\n",
    "    _ = Counter([x for lis in lol for x in lis])\n",
    "    total = float(sum(_.values())) \n",
    "    ret = {}\n",
    "    for k,v in _.items():\n",
    "        ret[k] = (float(v)/total*100.0) \n",
    "    return pd.Series(ret)"
   ]
  },
  {
   "cell_type": "code",
   "execution_count": 155,
   "metadata": {},
   "outputs": [
    {
     "data": {
      "text/plain": [
       "Text(0, 0.5, '% more prevalent in profitable films')"
      ]
     },
     "execution_count": 155,
     "metadata": {},
     "output_type": "execute_result"
    },
    {
     "data": {
      "image/png": "[encoded data removed]",
      "text/plain": [
       "<Figure size 432x288 with 1 Axes>"
      ]
     },
     "metadata": {
      "needs_background": "light"
     },
     "output_type": "display_data"
    }
   ],
   "source": [
    "lostnorm = flattencountnorm(lostmoney['genres'])\n",
    "madenorm = flattencountnorm(mademoney['genres'])\n",
    "_PLOT = (madenorm-lostnorm).plot(kind=\"bar\")\n",
    "_PLOT.set_title(\"Profit by genre\")\n",
    "_PLOT.set_xlabel(\"genre\")\n",
    "_PLOT.set_ylabel(\"% more prevalent in profitable films\")"
   ]
  },
  {
   "cell_type": "markdown",
   "metadata": {},
   "source": [
    "This graph shows the difference in prevalence of certain genres between successful and unsuccessful films so a number of +1 means that that genre appeared more in successful films than unsuccessful ones. The clear outlier is dramas which seem to be highly associated with films that lost money. This link is tenuous due to the incompleteness of our dateset (which we're only using a third of!) but it still suggests a strong trend. Mystery and Thrillers also drive losses more often than not while Adventure, Comedy, Family films are the heavy hitters in consistent profitability with animation a distant fourth. Also notice that TV movies didn't exist in the set of films that lost money so that bar is absent."
   ]
  },
  {
   "cell_type": "code",
   "execution_count": 162,
   "metadata": {},
   "outputs": [
    {
     "data": {
      "text/plain": [
       "{'TV Movie'}"
      ]
     },
     "execution_count": 162,
     "metadata": {},
     "output_type": "execute_result"
    }
   ],
   "source": [
    "set(madenorm.keys())-set(lostnorm.keys())"
   ]
  },
  {
   "cell_type": "markdown",
   "metadata": {},
   "source": [
    "## Profit and time\n",
    "#### or How profit relates to runtime and release date "
   ]
  },
  {
   "cell_type": "markdown",
   "metadata": {},
   "source": [
    "First let's see what sort of runtimes films tend to have"
   ]
  },
  {
   "cell_type": "code",
   "execution_count": 164,
   "metadata": {},
   "outputs": [
    {
     "data": {
      "text/plain": [
       "Text(0.5, 0, 'runtime (minutes)')"
      ]
     },
     "execution_count": 164,
     "metadata": {},
     "output_type": "execute_result"
    },
    {
     "data": {
      "image/png": "[encoded data removed]",
      "text/plain": [
       "<Figure size 432x288 with 1 Axes>"
      ]
     },
     "metadata": {
      "needs_background": "light"
     },
     "output_type": "display_data"
    }
   ],
   "source": [
    "_PLOT = pandadb['runtime'].plot(kind=\"hist\", bins=100)\n",
    "_PLOT.set_title(\"Film runtimes\")\n",
    "_PLOT.set_xlabel(\"runtime (minutes)\")"
   ]
  },
  {
   "cell_type": "markdown",
   "metadata": {},
   "source": [
    "It sems that The vast majority of films are between one hour and three hours and are normally distributed and centered around 100 minutes. Now let's plot how well runtime corelates with profit."
   ]
  },
  {
   "cell_type": "code",
   "execution_count": 173,
   "metadata": {},
   "outputs": [
    {
     "data": {
      "text/plain": [
       "Text(0.5, 1.0, 'Film runtime vs profit')"
      ]
     },
     "execution_count": 173,
     "metadata": {},
     "output_type": "execute_result"
    },
    {
     "data": {
      "image/png": "[encoded data removed]",
      "text/plain": [
       "<Figure size 432x288 with 1 Axes>"
      ]
     },
     "metadata": {
      "needs_background": "light"
     },
     "output_type": "display_data"
    }
   ],
   "source": [
    "_PLOT = sns.regplot(x=pandadb['runtime'],y=pandadb['profit'], line_kws={'color':'red'})\n",
    "_PLOT.set_title(\"Film runtime vs profit\")"
   ]
  },
  {
   "cell_type": "markdown",
   "metadata": {},
   "source": [
    "It seems that runtime and profit have a very weak positive correlation. How about the other time datatype we have to work with: release date."
   ]
  },
  {
   "cell_type": "code",
   "execution_count": 175,
   "metadata": {},
   "outputs": [
    {
     "data": {
      "text/plain": [
       "Text(0.5, 0, 'release year')"
      ]
     },
     "execution_count": 175,
     "metadata": {},
     "output_type": "execute_result"
    },
    {
     "data": {
      "image/png": "[encoded data removed]",
      "text/plain": [
       "<Figure size 432x288 with 1 Axes>"
      ]
     },
     "metadata": {
      "needs_background": "light"
     },
     "output_type": "display_data"
    }
   ],
   "source": [
    "_PLOT = sns.regplot(x=pandadb['release_year'],y=pandadb['profit'],line_kws={'color':'red'})\n",
    "_PLOT.set_title(\"Film release date vs profit\")\n",
    "_PLOT.set_xlabel(\"release year\")"
   ]
  },
  {
   "cell_type": "markdown",
   "metadata": {},
   "source": [
    "A correlation that close to 0 is an impressive result. It seems that even though the size of the film market is growing year on year the actual profitability of the average film is more or less constant. "
   ]
  },
  {
   "cell_type": "markdown",
   "metadata": {},
   "source": [
    "<a id='conclusions'></a>\n",
    "## Conclusions"
   ]
  },
  {
   "cell_type": "markdown",
   "metadata": {},
   "source": [
    "As a recap of our most revealing results:\n",
    "<ul>\n",
    "    <li>The typical film turns a substantial profit</li>\n",
    "    <li>Most films are financially successful with a few runaway successes</li>\n",
    "    <li>Dramas are consistently unsuccessful to a suprising degree</li>\n",
    "    <li>film profitability has been constant for decades</li>\n",
    "</ul>\n",
    "While these results are certainly suggestive of strong trends in the data it's important to note that these conclusions are merely well informed speculation. We had around 11,000 datapoints of which we only used a little under 4,000. That may sound like a lot but according to imdb (another movie database) there were over 5000 feature films released in 2006 alone. This means we were only operating on at best a random sample and more likely a sample heavily biased by the interests of the tmdb contributors and generally (popular) films that we have financial data for. Our analysis still has merit at providing insight into the financial state of films but proper statistical testing, or at least a more complete dataset, would be required to draw any truly meaningful conclusions."
   ]
  }
 ],
 "metadata": {
  "kernelspec": {
   "display_name": "Python 3",
   "language": "python",
   "name": "python3"
  },
  "language_info": {
   "codemirror_mode": {
    "name": "ipython",
    "version": 3
   },
   "file_extension": ".py",
   "mimetype": "text/x-python",
   "name": "python",
   "nbconvert_exporter": "python",
   "pygments_lexer": "ipython3",
   "version": "3.9.16"
  }
 },
 "nbformat": 4,
 "nbformat_minor": 2
}
